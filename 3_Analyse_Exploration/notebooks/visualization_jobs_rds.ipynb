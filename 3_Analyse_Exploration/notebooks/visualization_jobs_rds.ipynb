{
 "cells": [
  {
   "cell_type": "code",
   "execution_count": null,
   "id": "d37d4d97-f9ee-4874-a0ba-17d69d8c5071",
   "metadata": {},
   "outputs": [],
   "source": [
    "import os\n",
    "import pandas as pd\n",
    "import plotly.express as px\n",
    "import matplotlib.pyplot as plt\n",
    "import seaborn as sns\n",
    "from sqlalchemy import create_engine\n",
    "from dotenv import load_dotenv"
   ]
  },
  {
   "cell_type": "code",
   "execution_count": null,
   "id": "2ab7cc08-2a4a-4796-bf71-311cbbf66e93",
   "metadata": {},
   "outputs": [],
   "source": [
    "# === Chargement des variables d'environnement ===\n",
    "load_dotenv()\n",
    "DB_HOST = os.getenv(\"DB_HOST\")\n",
    "DB_PORT = os.getenv(\"DB_PORT\")\n",
    "DB_NAME = os.getenv(\"DB_NAME\")\n",
    "DB_USER = os.getenv(\"DB_USER\")\n",
    "DB_PASSWORD = os.getenv(\"DB_PASSWORD\")"
   ]
  },
  {
   "cell_type": "code",
   "execution_count": null,
   "id": "2fae4596-6969-4069-984f-5d0dfb1768fd",
   "metadata": {},
   "outputs": [],
   "source": [
    "# === Connexion à la base PostgreSQL RDS ===\n",
    "try:\n",
    "    engine = create_engine(f\"postgresql+psycopg2://{DB_USER}:{DB_PASSWORD}@{DB_HOST}:{DB_PORT}/{DB_NAME}\")\n",
    "    df = pd.read_sql(\"SELECT * FROM jobs\", con=engine)\n",
    "    print(\"✅ Données chargées depuis RDS avec succès\")\n",
    "except Exception as e:\n",
    "    print(\"❌ Erreur de connexion à la base RDS :\", e)\n",
    "    df = pd.DataFrame()  # On crée un df vide pour éviter de planter la suite"
   ]
  },
  {
   "cell_type": "code",
   "execution_count": null,
   "id": "ee2c8a1d-9321-4214-bdcc-67d3bfc3d681",
   "metadata": {},
   "outputs": [],
   "source": [
    "# Nettoyage de base\n",
    "if not df.empty:\n",
    "    df.dropna(subset=[\"title\", \"company\", \"location\"], inplace=True)\n",
    "    df[\"title\"] = df[\"title\"].str.lower().str.strip()\n",
    "    df[\"company\"] = df[\"company\"].str.strip()\n",
    "    df[\"location\"] = df[\"location\"].str.strip()\n",
    "\n",
    "    # Aperçu des données\n",
    "    print(\"\\nAperçu des données :\")\n",
    "    print(df.head())"
   ]
  },
  {
   "cell_type": "code",
   "execution_count": null,
   "id": "1aa67d7d-daff-4d12-aca0-cbf27e4beb49",
   "metadata": {},
   "outputs": [],
   "source": [
    "# === Visualisation 1 : Offres par ville ===\n",
    "df_city = df[\"location\"].value_counts().head(15).reset_index()\n",
    "df_city.columns = [\"city\", \"count\"]\n",
    "fig1 = px.bar(df_city, x=\"city\", y=\"count\", title=\"Top 10 des villes avec le plus d'offres\")\n",
    "fig1.show()"
   ]
  },
  {
   "cell_type": "code",
   "execution_count": null,
   "id": "969b667d-f20c-43b3-965d-412658ad428b",
   "metadata": {},
   "outputs": [],
   "source": [
    " # === Visualisation 2 : Entreprises qui recrutent le plus ===\n",
    "df_company = df[\"company\"].value_counts().head(15).reset_index()\n",
    "df_company.columns = [\"company\", \"count\"]\n",
    "fig2 = px.pie(df_company, names=\"company\", values=\"count\", title=\"Top entreprises qui recrutent\")\n",
    "fig2.show()"
   ]
  },
  {
   "cell_type": "code",
   "execution_count": null,
   "id": "0cf6cfb2-61f7-42e6-ab96-8d0b89161d4c",
   "metadata": {},
   "outputs": [],
   "source": [
    "    # === Visualisation 3 : Distribution des salaires ===\n",
    "    df_salaire = df.dropna(subset=[\"salary_min\", \"salary_max\"])\n",
    "    fig3 = px.box(df_salaire, y=\"salary_max\", points=\"all\", title=\"Distribution des salaires max\")\n",
    "    fig3.show()"
   ]
  },
  {
   "cell_type": "code",
   "execution_count": null,
   "id": "909b577f-97bf-41fb-9843-eb1cf2c1959a",
   "metadata": {},
   "outputs": [],
   "source": [
    "    # === Visualisation 4 : Offres par source ===\n",
    "    df_source = df[\"source\"].value_counts().reset_index()\n",
    "    df_source.columns = [\"source\", \"count\"]\n",
    "    fig4 = px.pie(df_source, names=\"source\", values=\"count\", title=\"Origine des offres (API vs Scraping)\")\n",
    "    fig4.show()"
   ]
  },
  {
   "cell_type": "code",
   "execution_count": null,
   "id": "d32f23e0-578c-46d1-8f08-52546ac92614",
   "metadata": {},
   "outputs": [],
   "source": [
    "    # === Visualisation 5 : Top intitulés de poste ===\n",
    "    df_title = df[\"title\"].value_counts().head(15).reset_index()\n",
    "    df_title.columns = [\"title\", \"count\"]\n",
    "    fig5 = px.bar(df_title, x=\"title\", y=\"count\", title=\"Top intitulés de poste\")\n",
    "    fig5.show()"
   ]
  },
  {
   "cell_type": "code",
   "execution_count": null,
   "id": "3b804ce2-2075-4b32-b868-29b258973edd",
   "metadata": {},
   "outputs": [],
   "source": [
    "    # === Visualisation 7 : Nombre d'offres avec ou sans salaire ===\n",
    "    df[\"has_salary\"] = df[\"salary_min\"].notnull() & df[\"salary_max\"].notnull()\n",
    "    salary_counts = df[\"has_salary\"].value_counts().rename({True: \"Avec salaire\", False: \"Sans salaire\"})\n",
    "    fig7 = px.pie(values=salary_counts.values, names=salary_counts.index, title=\"Présence des salaires dans les offres\")\n",
    "    fig7.show()"
   ]
  },
  {
   "cell_type": "code",
   "execution_count": null,
   "id": "fe1cb013-796a-40b0-8f2d-2b8b3e368060",
   "metadata": {},
   "outputs": [],
   "source": [
    "    # === Insight exemple ===\n",
    "    print(\"\\n🔎 Insight :\")\n",
    "    print(\"La majorité des offres viennent de :\", df[\"source\"].value_counts().idxmax())\n",
    "    print(\"Nombre d'offres avec salaire renseigné :\", len(df_salaire))\n"
   ]
  },
  {
   "cell_type": "code",
   "execution_count": null,
   "id": "e5260abd-24e1-47a9-a7bc-1877fe90638a",
   "metadata": {},
   "outputs": [],
   "source": [
    "    # === Insights supplémentaires ===\n",
    "    print(\"\\n🔎 Insights supplémentaires :\")\n",
    "    print(\"1. Nombre total d'offres :\", len(df))\n",
    "    print(\"2. Nombre d'entreprises uniques :\", df[\"company\"].nunique())\n",
    "    print(\"3. Nombre de villes uniques :\", df[\"location\"].nunique())\n",
    "    print(\"4. Intitulé de poste le plus fréquent :\", df[\"title\"].mode()[0])\n",
    "    print(\"5. Entreprise ayant posté le plus d'offres :\", df[\"company\"].value_counts().idxmax())\n",
    "    print(\"6. Salaire moyen max :\", df[\"salary_max\"].dropna().mean())\n",
    "    print(\"7. Salaire médian min :\", df[\"salary_min\"].dropna().median())\n",
    "    print(\"8. Pourcentage d'offres avec salaire renseigné :\", round(df[\"has_salary\"].mean() * 100, 2), \"%\")\n",
    "    print(\"9. Nombre d'intitulés de poste uniques :\", df[\"title\"].nunique())\n",
    "    print(\"10. Répartition API vs Scraping :\")\n",
    "    print(df[\"source\"].value_counts(normalize=True) * 100)\n"
   ]
  },
  {
   "cell_type": "code",
   "execution_count": null,
   "id": "b6fdbce2-09c1-4f90-b8e2-d5f045a007b8",
   "metadata": {},
   "outputs": [],
   "source": [
    "plt.figure(figsize=(6, 4))\n",
    "sns.countplot(data=df, x=\"source\", palette=\"Set2\")\n",
    "plt.title(\"Nombre d'offres par source\")\n",
    "plt.ylabel(\"Nombre d'offres\")\n",
    "plt.xticks(rotation=15)\n",
    "plt.tight_layout()\n",
    "plt.show()"
   ]
  },
  {
   "cell_type": "code",
   "execution_count": null,
   "id": "934322ed",
   "metadata": {},
   "outputs": [],
   "source": [
    "top_titles = df[\"title\"].value_counts().head(10)\n",
    "\n",
    "plt.figure(figsize=(8, 5))\n",
    "sns.barplot(x=top_titles.values, y=top_titles.index, palette=\"coolwarm\")\n",
    "plt.title(\"Top 10 des intitulés de poste\")\n",
    "plt.xlabel(\"Nombre d'offres\")\n",
    "plt.tight_layout()\n",
    "plt.show()\n"
   ]
  },
  {
   "cell_type": "code",
   "execution_count": null,
   "id": "1a8acda0",
   "metadata": {},
   "outputs": [],
   "source": [
    "plt.figure(figsize=(6, 4))\n",
    "sns.countplot(data=df, y=\"contract_type\", order=df[\"contract_type\"].value_counts().index, palette=\"pastel\")\n",
    "plt.title(\"Répartition des types de contrats\")\n",
    "plt.xlabel(\"Nombre d'offres\")\n",
    "plt.tight_layout()\n",
    "plt.show()\n"
   ]
  },
  {
   "cell_type": "code",
   "execution_count": null,
   "id": "c2186a58",
   "metadata": {},
   "outputs": [],
   "source": [
    "print(\"Statistiques sur salary_min :\\n\", df[\"salary_min\"].describe())\n",
    "print(\"Statistiques sur salary_max :\\n\", df[\"salary_max\"].describe())\n"
   ]
  },
  {
   "cell_type": "code",
   "execution_count": null,
   "id": "a0291a45",
   "metadata": {},
   "outputs": [],
   "source": [
    "plt.figure(figsize=(8, 4))\n",
    "sns.histplot(df[\"salary_min\"], bins=30, color='skyblue', label=\"Min\", kde=True)\n",
    "sns.histplot(df[\"salary_max\"], bins=30, color='salmon', label=\"Max\", kde=True)\n",
    "plt.legend()\n",
    "plt.title(\"Distribution des salaires\")\n",
    "plt.xlabel(\"Salaire (€)\")\n",
    "plt.tight_layout()\n",
    "plt.show()\n"
   ]
  },
  {
   "cell_type": "code",
   "execution_count": null,
   "id": "da6e6eed",
   "metadata": {},
   "outputs": [],
   "source": [
    "top_locations = df[\"location\"].value_counts().head(10)\n",
    "\n",
    "plt.figure(figsize=(8, 5))\n",
    "sns.barplot(x=top_locations.values, y=top_locations.index, palette=\"viridis\")\n",
    "plt.title(\"Top 10 des localisations\")\n",
    "plt.xlabel(\"Nombre d'offres\")\n",
    "plt.tight_layout()\n",
    "plt.show()\n"
   ]
  },
  {
   "cell_type": "code",
   "execution_count": null,
   "id": "eb742f6d",
   "metadata": {},
   "outputs": [],
   "source": [
    "if \"category\" in df.columns:\n",
    "    plt.figure(figsize=(8, 5))\n",
    "    df[\"category\"].value_counts().head(10).plot(kind=\"barh\", color=\"lightgreen\")\n",
    "    plt.title(\"Top 10 des catégories d'emploi\")\n",
    "    plt.xlabel(\"Nombre d'offres\")\n",
    "    plt.tight_layout()\n",
    "    plt.show()\n"
   ]
  }
 ],
 "metadata": {
  "kernelspec": {
   "display_name": "Python 3 (ipykernel)",
   "language": "python",
   "name": "python3"
  },
  "language_info": {
   "codemirror_mode": {
    "name": "ipython",
    "version": 3
   },
   "file_extension": ".py",
   "mimetype": "text/x-python",
   "name": "python",
   "nbconvert_exporter": "python",
   "pygments_lexer": "ipython3",
   "version": "3.12.7"
  }
 },
 "nbformat": 4,
 "nbformat_minor": 5
}
